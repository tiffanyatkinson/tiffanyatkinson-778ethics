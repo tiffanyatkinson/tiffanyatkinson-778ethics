{
 "cells": [
  {
   "cell_type": "code",
   "execution_count": 10,
   "id": "a949d483-9912-478a-a6fa-1cf8461aaffe",
   "metadata": {},
   "outputs": [
    {
     "name": "stdin",
     "output_type": "stream",
     "text": [
      "enter your name:  bob\n"
     ]
    },
    {
     "name": "stdout",
     "output_type": "stream",
     "text": [
      "hello, bob\n"
     ]
    }
   ],
   "source": [
    "def greeting(name):\n",
    "    print(\"hello, \" + name)\n",
    "\n",
    "name = input(\"enter your name: \")\n",
    "greeting(name)"
   ]
  },
  {
   "cell_type": "code",
   "execution_count": 11,
   "id": "5160e533-f88c-40ad-8708-d6d063cd4a96",
   "metadata": {},
   "outputs": [
    {
     "name": "stdin",
     "output_type": "stream",
     "text": [
      "enter your name:  bob\n"
     ]
    },
    {
     "name": "stdout",
     "output_type": "stream",
     "text": [
      "hello, bob bob bob \n"
     ]
    }
   ],
   "source": [
    "def greeting(name):\n",
    "    print(\"hello, \" + name + \" \" + name + \" \" + name + \" \")\n",
    "\n",
    "name = input(\"enter your name: \")\n",
    "greeting(name)"
   ]
  },
  {
   "cell_type": "code",
   "execution_count": 12,
   "id": "4ea0923b-68bc-4688-afd1-60ce7222f172",
   "metadata": {},
   "outputs": [
    {
     "name": "stdin",
     "output_type": "stream",
     "text": [
      "enter the a number:  5\n",
      "enter another number:  4\n"
     ]
    },
    {
     "data": {
      "text/plain": [
       "(9, 20)"
      ]
     },
     "execution_count": 12,
     "metadata": {},
     "output_type": "execute_result"
    }
   ],
   "source": [
    "def calculate(one,two):\n",
    "    sum = one + two\n",
    "    product = one * two\n",
    "    return sum, product\n",
    "\n",
    "one = int(input(\"enter the a number: \"))\n",
    "two = int(input(\"enter another number: \"))\n",
    "\n",
    "\n",
    "calculate(one,two)"
   ]
  },
  {
   "cell_type": "code",
   "execution_count": 1,
   "id": "9825352e-73cd-43ad-88e2-209433170293",
   "metadata": {},
   "outputs": [
    {
     "name": "stdin",
     "output_type": "stream",
     "text": [
      "enter a number:  5\n"
     ]
    },
    {
     "name": "stdout",
     "output_type": "stream",
     "text": [
      "original number:  5\n",
      "previous number:  4\n",
      "next number:  6\n"
     ]
    }
   ],
   "source": [
    "num = int(input(\"enter a number: \"))\n",
    "\n",
    "prev = num - 1\n",
    "next = num + 1\n",
    "\n",
    "print(\"original number: \", num)\n",
    "print(\"previous number: \", prev)\n",
    "print(\"next number: \", next)"
   ]
  },
  {
   "cell_type": "code",
   "execution_count": 4,
   "id": "68a4b818-98e3-4f53-8d12-aab4a01d449d",
   "metadata": {},
   "outputs": [
    {
     "name": "stdout",
     "output_type": "stream",
     "text": [
      "43981\n"
     ]
    }
   ],
   "source": [
    "def hexdec(hex):\n",
    "\n",
    "  decimal = 0\n",
    "  for i in range(4):\n",
    "    hexd = hex[i]\n",
    "    decimald = int(hexd, 16)\n",
    "    decimal += decimald * (16 ** (3 - i))\n",
    "  return decimal\n",
    "\n",
    "hex = \"ABCD\"\n",
    "decimal = hexdec(hex)\n",
    "print(decimal)"
   ]
  },
  {
   "cell_type": "code",
   "execution_count": 8,
   "id": "d3b24268-09d4-42bc-b07d-623b1fe2c7e2",
   "metadata": {},
   "outputs": [
    {
     "name": "stdin",
     "output_type": "stream",
     "text": [
      "enter a number:  4\n"
     ]
    },
    {
     "name": "stdout",
     "output_type": "stream",
     "text": [
      "4 is even.\n"
     ]
    }
   ],
   "source": [
    "def evenodd(num):\n",
    "  return num % 2 == 0 \n",
    "\n",
    "num = int(input(\"enter a number: \"))\n",
    "\n",
    "if evenodd(num):\n",
    "  print(num, \"is even.\")\n",
    "else:\n",
    "  print(num, \"is odd.\")"
   ]
  },
  {
   "cell_type": "code",
   "execution_count": 9,
   "id": "b902beba-4fa3-4c56-ae27-a83cb1a88515",
   "metadata": {},
   "outputs": [
    {
     "name": "stdout",
     "output_type": "stream",
     "text": [
      "*\n",
      "**\n",
      "***\n"
     ]
    }
   ],
   "source": [
    "def triangle(rows):\n",
    "  for i in range(1, rows + 1):\n",
    "    print(\"*\" * i)\n",
    "\n",
    "rows = 3\n",
    "\n",
    "triangle(rows)"
   ]
  }
 ],
 "metadata": {
  "kernelspec": {
   "display_name": "Python 3 (ipykernel)",
   "language": "python",
   "name": "python3"
  },
  "language_info": {
   "codemirror_mode": {
    "name": "ipython",
    "version": 3
   },
   "file_extension": ".py",
   "mimetype": "text/x-python",
   "name": "python",
   "nbconvert_exporter": "python",
   "pygments_lexer": "ipython3",
   "version": "3.10.14"
  }
 },
 "nbformat": 4,
 "nbformat_minor": 5
}
